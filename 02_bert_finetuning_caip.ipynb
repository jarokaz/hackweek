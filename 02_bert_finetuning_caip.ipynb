{
 "cells": [
  {
   "cell_type": "code",
   "execution_count": null,
   "metadata": {
    "id": "ur8xi4C7S06n"
   },
   "outputs": [],
   "source": [
    "# Copyright 2020 Google LLC\n",
    "#\n",
    "# Licensed under the Apache License, Version 2.0 (the \"License\");\n",
    "# you may not use this file except in compliance with the License.\n",
    "# You may obtain a copy of the License at\n",
    "#\n",
    "#     https://www.apache.org/licenses/LICENSE-2.0\n",
    "#\n",
    "# Unless required by applicable law or agreed to in writing, software\n",
    "# distributed under the License is distributed on an \"AS IS\" BASIS,\n",
    "# WITHOUT WARRANTIES OR CONDITIONS OF ANY KIND, either express or implied.\n",
    "# See the License for the specific language governing permissions and\n",
    "# limitations under the License."
   ]
  },
  {
   "cell_type": "markdown",
   "metadata": {
    "id": "eHLV0D7Y5jtU"
   },
   "source": [
    "# AI Platform (Unified) SDK: BERT fine-tuning using custom training container\n",
    "\n"
   ]
  },
  {
   "cell_type": "markdown",
   "metadata": {
    "id": "tvgnzT1CKxrO"
   },
   "source": [
    "This tutorial demonstrates how to use the AI Platform (Unified) Training to run multi-worker distributed training with GPUs.\n",
    "\n",
    "This tutorial contains complete code to fine-tune BERT to perform sentiment analysis on a dataset of plain-text IMDB movie reviews. It uses  the same modeling techniques as the `01_bert_finetuning_local.ipynb` notebook. Refer to that notebook for more information. \n"
   ]
  },
  {
   "cell_type": "markdown",
   "metadata": {
    "id": "i7EUnXsZhAGF"
   },
   "source": [
    "## Setting up the environment\n",
    "\n"
   ]
  },
  {
   "cell_type": "markdown",
   "metadata": {
    "id": "BF1j6f9HApxa"
   },
   "source": [
    "### Set up your GCP project\n",
    "\n",
    "**The following steps are required, regardless of your notebook environment.**\n",
    "\n",
    "1. [Select or create a GCP project](https://console.cloud.google.com/cloud-resource-manager). When you first create an account, you get a $300 free credit towards your compute/storage costs.\n",
    "\n",
    "2. [Make sure that billing is enabled for your project.](https://cloud.google.com/billing/docs/how-to/modify-project)\n",
    "\n",
    "3. [Enable the AI Platform APIs, Compute Engine APIs and Container Registry API.](https://console.cloud.google.com/flows/enableapi?apiid=ml.googleapis.com,compute_component,containerregistry.googleapis.com)\n",
    "\n",
    "4. [Google Cloud SDK](https://cloud.google.com/sdk) is already installed in AI Platform Notebooks.\n",
    "\n",
    "5. Enter your project ID in the cell below. Then run the  cell to make sure the\n",
    "Cloud SDK uses the right project for all the commands in this notebook.\n",
    "\n",
    "**Note**: Jupyter runs lines prefixed with `!` as shell commands, and it interpolates Python variables prefixed with `$` into these commands."
   ]
  },
  {
   "cell_type": "markdown",
   "metadata": {
    "id": "gwesbe38xa3y"
   },
   "source": [
    "#### Project ID\n",
    "\n",
    "**If you don't know your project ID**, you might be able to get your project ID using `gcloud` command by executing the second cell below."
   ]
  },
  {
   "cell_type": "code",
   "execution_count": 16,
   "metadata": {
    "id": "Oe_QtcD8xa3y"
   },
   "outputs": [
    {
     "name": "stdout",
     "output_type": "stream",
     "text": [
      "Updated property [core/project].\n",
      "\u001b[1;33mWARNING:\u001b[0m You do not appear to have access to project [jk-demos] or it does not exist.\n"
     ]
    }
   ],
   "source": [
    "PROJECT_ID = 'jk-demos'\n",
    "\n",
    "! gcloud config set project $PROJECT_ID"
   ]
  },
  {
   "cell_type": "markdown",
   "metadata": {
    "id": "F4t4fNIrxa3z"
   },
   "source": [
    "#### Region\n",
    "\n",
    "You can also change the `REGION` variable, which is used for operations\n",
    "throughout the rest of this notebook.  Below are regions supported for AI Platform (Unified). We recommend when possible, to choose the region closest to you. \n",
    "\n",
    "- Americas: `us-central1`\n",
    "- Europe: `europe-west4`\n",
    "- Asia Pacific: `asia-east1`\n",
    "\n",
    "You can not use a Multi-Regional Storage bucket for training with AI Platform. Not all regions provide support for all AI Platform services. For the lastest support per region, see [Region support for AI Platform (Unified) services](https://cloud.google.com/ai-platform-unified/docs/general/locations)"
   ]
  },
  {
   "cell_type": "code",
   "execution_count": 17,
   "metadata": {
    "id": "YMA5Tb-8xa30"
   },
   "outputs": [],
   "source": [
    "REGION = 'us-central1' "
   ]
  },
  {
   "cell_type": "markdown",
   "metadata": {
    "id": "73aiNcsHxa30"
   },
   "source": [
    "#### Timestamp\n",
    "\n",
    "If you are in a live tutorial session, you might be using a shared test account or project. To avoid name collisions between users on resources created, you create a timestamp for each instance session, and append onto the name of resources which will be created in this tutorial."
   ]
  },
  {
   "cell_type": "code",
   "execution_count": 18,
   "metadata": {
    "id": "ENu2qzifxa30"
   },
   "outputs": [],
   "source": [
    "from datetime import datetime\n",
    "\n",
    "TIMESTAMP = datetime.now().strftime(\"%Y%m%d%H%M%S\")"
   ]
  },
  {
   "cell_type": "markdown",
   "metadata": {},
   "source": [
    "### Install the required Python packages\n",
    "\n",
    "Follow the instructions in the [repo's README](README.md) to install the latest (preview) version of AI Platform (Unified) SDK."
   ]
  },
  {
   "cell_type": "markdown",
   "metadata": {
    "id": "zgPO1eR3CYjk"
   },
   "source": [
    "### Create a Cloud Storage bucket\n",
    "\n",
    "**The following steps are required, regardless of your notebook environment.**\n",
    "\n",
    "In this tutorial, your training job retrieves data and  saves the artifacts created during the job, including\n",
    "a trained model, checkpoints, and the TensorBoard logs, into a Google Cloud storage bucket. \n",
    "\n",
    "Set the name of your Cloud Storage bucket below. It must be unique across all\n",
    "Cloud Storage buckets. "
   ]
  },
  {
   "cell_type": "code",
   "execution_count": 20,
   "metadata": {
    "id": "MzGDU7TWdts_"
   },
   "outputs": [],
   "source": [
    "BUCKET_NAME = \"jk-demos-bucket\" "
   ]
  },
  {
   "cell_type": "markdown",
   "metadata": {
    "id": "-EcIXiGsCePi"
   },
   "source": [
    "**Only if your bucket doesn't already exist**: Run the following cell to create your Cloud Storage bucket."
   ]
  },
  {
   "cell_type": "code",
   "execution_count": 21,
   "metadata": {
    "id": "NIq7R4HZCfIc"
   },
   "outputs": [
    {
     "name": "stdout",
     "output_type": "stream",
     "text": [
      "Creating gs://jk-demos-bucket/...\n",
      "ServiceException: 409 A Cloud Storage bucket named 'jk-demos-bucket' already exists. Try another name. Bucket names must be globally unique across all Google Cloud projects, including those outside of your organization.\n"
     ]
    }
   ],
   "source": [
    "! gsutil mb -l $REGION gs://$BUCKET_NAME"
   ]
  },
  {
   "cell_type": "markdown",
   "metadata": {
    "id": "ucvCsknMCims"
   },
   "source": [
    "Finally, validate access to your Cloud Storage bucket by examining its contents:"
   ]
  },
  {
   "cell_type": "code",
   "execution_count": 22,
   "metadata": {
    "id": "vhOb7YnwClBb"
   },
   "outputs": [
    {
     "name": "stdout",
     "output_type": "stream",
     "text": [
      "                                 gs://jk-demos-bucket/data/\n",
      "                                 gs://jk-demos-bucket/jobs/\n",
      "                                 gs://jk-demos-bucket/tfrecords/\n"
     ]
    }
   ],
   "source": [
    "! gsutil ls -al gs://$BUCKET_NAME"
   ]
  },
  {
   "cell_type": "markdown",
   "metadata": {
    "id": "OxBoSThVxa34"
   },
   "source": [
    "### Set AI Platform (Unified) constants\n",
    "\n",
    "Let's now setup some constants for AI Platform (Unified):\n",
    "\n",
    "- `API_ENDPOINT`: The AI Platform (Unified) API service endpoint for dataset, model, job, pipeline and endpoint services.\n",
    "- `API_PREDICT_ENDPOINT`: The AI Platform (Unified) API service endpoint for prediction.\n",
    "- `PARENT`: The AI Platform (Unified) location root path for dataset, model and endpoint resources."
   ]
  },
  {
   "cell_type": "code",
   "execution_count": 23,
   "metadata": {
    "id": "dZtcw173xa34"
   },
   "outputs": [],
   "source": [
    "# API Endpoint\n",
    "API_ENDPOINT = \"{}-aiplatform.googleapis.com\".format(REGION)\n",
    "API_PREDICT_ENDPOINT = \"{}-prediction-aiplatform.googleapis.com\".format(REGION)\n",
    "\n",
    "# AI Platform (Unified) location root path for your dataset, model and endpoint resources\n",
    "PARENT = \"projects/\" + PROJECT_ID + \"/locations/\" + REGION"
   ]
  },
  {
   "cell_type": "markdown",
   "metadata": {
    "id": "XoEqT2Y4DJmf"
   },
   "source": [
    "### Import libraries and define constants"
   ]
  },
  {
   "cell_type": "code",
   "execution_count": 24,
   "metadata": {
    "id": "pRUOFELefqf1"
   },
   "outputs": [],
   "source": [
    "import os\n",
    "import shutil\n",
    "import sys\n",
    "import time\n",
    "\n",
    "import tensorflow as tf\n",
    "\n",
    "from google.protobuf import json_format\n",
    "from google.protobuf.struct_pb2 import Value\n",
    "\n",
    "from google.cloud.aiplatform import gapic as aip"
   ]
  },
  {
   "cell_type": "markdown",
   "metadata": {
    "id": "E6ppE7imft-y"
   },
   "source": [
    "## Preparing data\n",
    "\n",
    "#### Download IMDB dataset"
   ]
  },
  {
   "cell_type": "code",
   "execution_count": 9,
   "metadata": {},
   "outputs": [
    {
     "name": "stdout",
     "output_type": "stream",
     "text": [
      "Downloading data from https://ai.stanford.edu/~amaas/data/sentiment/aclImdb_v1.tar.gz\n",
      "84131840/84125825 [==============================] - 2s 0us/step\n"
     ]
    }
   ],
   "source": [
    "local_dir = os.path.expanduser('~')\n",
    "local_dir = f'{local_dir}/datasets'\n",
    "\n",
    "if tf.io.gfile.exists(local_dir):\n",
    "    tf.io.gfile.rmtree(local_dir)\n",
    "tf.io.gfile.makedirs(local_dir)\n",
    "\n",
    "url = 'https://ai.stanford.edu/~amaas/data/sentiment/aclImdb_v1.tar.gz'\n",
    "local_path = f'{local_dir}/aclImdb_v1.tar.gz'\n",
    "\n",
    "dataset = tf.keras.utils.get_file(local_path, url,\n",
    "                                  untar=True, \n",
    "                                  cache_dir=local_dir,\n",
    "                                  cache_subdir='.'\n",
    "                                  )\n",
    "dataset_dir = os.path.join(os.path.dirname(dataset), 'aclImdb')\n",
    "\n",
    "train_dir = os.path.join(dataset_dir, 'train')\n",
    "\n",
    "# remove unused folders to make it easier to load the data\n",
    "remove_dir = os.path.join(train_dir, 'unsup')\n",
    "shutil.rmtree(remove_dir)"
   ]
  },
  {
   "cell_type": "markdown",
   "metadata": {},
   "source": [
    "#### Convert the IMDB dataset to TFRecords files\n",
    "\n",
    "##### Create tf.data datasets from IMDB text files"
   ]
  },
  {
   "cell_type": "code",
   "execution_count": 10,
   "metadata": {},
   "outputs": [],
   "source": [
    "def create_input_pipelines(train_dir, test_dir, val_split, seed):\n",
    "    \n",
    "    train_ds = tf.keras.preprocessing.text_dataset_from_directory(\n",
    "        train_dir,\n",
    "        validation_split=val_split,\n",
    "        subset='training',\n",
    "        seed=seed)\n",
    "\n",
    "    class_names = train_ds.class_names\n",
    "    \n",
    "    train_ds = train_ds.unbatch()\n",
    "\n",
    "    val_ds = tf.keras.preprocessing.text_dataset_from_directory(\n",
    "        train_dir,\n",
    "        validation_split=val_split,\n",
    "        subset='validation',\n",
    "        seed=seed).unbatch()\n",
    "\n",
    "    test_ds = tf.keras.preprocessing.text_dataset_from_directory(\n",
    "        test_dir).unbatch()\n",
    "\n",
    "    return train_ds, val_ds, test_ds, class_names"
   ]
  },
  {
   "cell_type": "code",
   "execution_count": 11,
   "metadata": {},
   "outputs": [
    {
     "name": "stdout",
     "output_type": "stream",
     "text": [
      "Found 25000 files belonging to 2 classes.\n",
      "Using 20000 files for training.\n",
      "Found 25000 files belonging to 2 classes.\n",
      "Using 5000 files for validation.\n",
      "Found 25000 files belonging to 2 classes.\n"
     ]
    }
   ],
   "source": [
    "seed = 42\n",
    "val_split = 0.2\n",
    "test_dir = f'{dataset_dir}/test'\n",
    "\n",
    "train_ds, val_ds, test_ds, class_names = (\n",
    "    create_input_pipelines(train_dir, test_dir, val_split, seed)\n",
    ")"
   ]
  },
  {
   "cell_type": "markdown",
   "metadata": {},
   "source": [
    "##### Prepare tf.Example serialization routines"
   ]
  },
  {
   "cell_type": "code",
   "execution_count": 12,
   "metadata": {},
   "outputs": [],
   "source": [
    "def serialize_example(text_fragment, label):\n",
    "    \"\"\"Serializes text fragment and label in tf.Example.\"\"\"\n",
    "    \n",
    "    def _bytes_feature(value):\n",
    "        \"\"\"Returns a bytes_list from a string / byte.\"\"\"\n",
    "        if isinstance(value, type(tf.constant(0))):\n",
    "            value = value.numpy() # BytesList won't unpack a string from an EagerTensor.\n",
    "        return tf.train.Feature(bytes_list=tf.train.BytesList(value=[value]))\n",
    "\n",
    "    def _int64_feature(value):\n",
    "        \"\"\"Returns an int64_list from a bool / enum / int / uint.\"\"\"\n",
    "        return tf.train.Feature(int64_list=tf.train.Int64List(value=[value]))\n",
    "    \n",
    "    feature = {\n",
    "        'text_fragment': _bytes_feature(text_fragment),\n",
    "        'label': _int64_feature(label)\n",
    "    }\n",
    "    \n",
    "    example_proto = tf.train.Example(features=tf.train.Features(feature=feature))\n",
    "    return example_proto.SerializeToString()\n",
    "    \n",
    "def tf_serialize_example(text_fragment, label):\n",
    "  tf_string = tf.py_function(\n",
    "    serialize_example,\n",
    "    (text_fragment, label), \n",
    "    tf.string)      \n",
    "  return tf.reshape(tf_string, ()) "
   ]
  },
  {
   "cell_type": "markdown",
   "metadata": {},
   "source": [
    "##### Write TFRecords files"
   ]
  },
  {
   "cell_type": "code",
   "execution_count": 14,
   "metadata": {},
   "outputs": [],
   "source": [
    "tfrecords_folder = '{}/tfrecords'.format(os.path.expanduser('~'))\n",
    "if tf.io.gfile.exists(tfrecords_folder):\n",
    "    tf.io.gfile.rmtree(tfrecords_folder)\n",
    "tf.io.gfile.makedirs(tfrecords_folder)\n",
    "\n",
    "filenames = ['train.tfrecords', 'valid.tfrecords', 'test.tfrecords']\n",
    "for file_name, dataset in zip(filenames, [train_ds, val_ds, test_ds]):\n",
    "    writer = tf.data.experimental.TFRecordWriter(os.path.join(tfrecords_folder, file_name))\n",
    "    writer.write(dataset.map(tf_serialize_example))"
   ]
  },
  {
   "cell_type": "markdown",
   "metadata": {},
   "source": [
    "##### Double check that you can read the created format"
   ]
  },
  {
   "cell_type": "code",
   "execution_count": 15,
   "metadata": {},
   "outputs": [
    {
     "name": "stdout",
     "output_type": "stream",
     "text": [
      "tf.Tensor(b'\\n\\xec\\x07\\n\\x0e\\n\\x05label\\x12\\x05\\x1a\\x03\\n\\x01\\x01\\n\\xd9\\x07\\n\\rtext_fragment\\x12\\xc7\\x07\\n\\xc4\\x07\\n\\xc1\\x07Very touching film, a great surprise to come up from Brazil, a country that usually exports features about social themes, violence, sex... Magical realism is a very hard task, and I believe Jo\\xc3\\xa3o Falc\\xc3\\xa3o has made it wonderfully. It seems that he really didn\\'t intend to make a realistic film, far from that. Although many people think the film was adapted from the play, he said in his interviews that he actually based the film on the book. Another mistake is to think that Falc\\xc3\\xa3o has been influenced by the series \"Hoje \\xc3\\xa9 Dia De Maria\". The TV series produced by Globo was made after the film, but aired before... Unfortunately.<br /><br />The negative point is the photography, by Walter Carvalho. It seems that he didn\\'t capture or understand the concept Falc\\xc3\\xa3o has created. The story is captivating and universal, in spite of taking place in a tiny little city in Brazil. That could take place anywhere in the world. A great movie, I strongly recommend.', shape=(), dtype=string)\n",
      "tf.Tensor(b'\\n\\x9c\\n\\n\\x89\\n\\n\\rtext_fragment\\x12\\xf7\\t\\n\\xf4\\t\\n\\xf1\\tThe artist Daniel King (Chris John) and his mate Laura Peters (Lara Clancy) are invited to move to an old house in Cornwall, in Great Britain, by his childhood wealthy friend Natasha Carlton (Carol Kentish). Natasha has a crush on Daniel, who is an ambiguous man regarding his sentimental life. While alone in the house, weird things happen and Laura is startled and scared. When Laura meets the old insane priest Gabriel Norton (Brian Blessed) on the road, she is advised to immediately leave the house, since evil lived there. But the couple stays and has to face tragic consequences.<br /><br />What a messy screenplay and awful and cheesy movie this \"Devil\\'s Harvest\" is! The cinematography and the camera work is not totally bad, but the amateurish performances of Chris John and Carol Kentish and direction of James Shanks, together with the terrible story, ridiculous situations and dialogs make this movie one of the worse I have ever seen in the genre. I have occasionally seen in YouTube a couple of shorts from cinema college that are better and better than the pointless and dreadful \"Devil\\'s Harvest\". In the end, it is not a horror movie but a horror of movie. My vote is three.<br /><br />Title (Brazil): \"A Colheita do Diabo\" (\"The Devil\\'s Harvest\")\\n\\x0e\\n\\x05label\\x12\\x05\\x1a\\x03\\n\\x01\\x00', shape=(), dtype=string)\n"
     ]
    }
   ],
   "source": [
    "for record in tf.data.TFRecordDataset([os.path.join(tfrecords_folder, file_name)]).take(2):\n",
    "    print(record)"
   ]
  },
  {
   "cell_type": "markdown",
   "metadata": {},
   "source": [
    "### Copy the created TFRecord files to GCS"
   ]
  },
  {
   "cell_type": "code",
   "execution_count": 16,
   "metadata": {},
   "outputs": [
    {
     "name": "stdout",
     "output_type": "stream",
     "text": [
      "Copying file:///home/jupyter/tfrecords/train.tfrecords [Content-Type=application/octet-stream]...\n",
      "- [1 files][ 26.5 MiB/ 26.5 MiB]                                                \n",
      "Operation completed over 1 objects/26.5 MiB.                                     \n",
      "Copying file:///home/jupyter/tfrecords/valid.tfrecords [Content-Type=application/octet-stream]...\n",
      "/ [1 files][  6.6 MiB/  6.6 MiB]                                                \n",
      "Operation completed over 1 objects/6.6 MiB.                                      \n",
      "Copying file:///home/jupyter/tfrecords/test.tfrecords [Content-Type=application/octet-stream]...\n",
      "- [1 files][ 32.3 MiB/ 32.3 MiB]                                                \n",
      "Operation completed over 1 objects/32.3 MiB.                                     \n"
     ]
    }
   ],
   "source": [
    "gcs_paths = [f'gs://{BUCKET_NAME}/tfrecords/train',\n",
    "             f'gs://{BUCKET_NAME}/tfrecords/valid',\n",
    "             f'gs://{BUCKET_NAME}/tfrecords/test']\n",
    "\n",
    "for filename, gcs_path in zip(filenames, gcs_paths):\n",
    "    local_file_path = os.path.join(tfrecords_folder, filename)\n",
    "    gcs_file_path = f'{gcs_path}/{filename}'\n",
    "    !gsutil cp {local_file_path} {gcs_file_path}"
   ]
  },
  {
   "cell_type": "markdown",
   "metadata": {},
   "source": [
    "## "
   ]
  },
  {
   "cell_type": "markdown",
   "metadata": {},
   "source": [
    "## Submitting training jobs\n",
    "\n",
    "\n",
    "There are three types of AI Platform resources you can create to train custom models on AI Platform:\n",
    "\n",
    "- [Custom jobs](https://cloud.google.com/ai-platform-unified/docs/training/create-custom-job)\n",
    "- [Hyperparameter tuning jobs](https://cloud.google.com/ai-platform-unified/docs/training/using-hyperparameter-tuning)\n",
    "- [Training pipelines](https://cloud.google.com/ai-platform-unified/docs/training/create-training-pipeline)\n",
    "\n",
    "In this notebook, we will use a Custom job.\n",
    "\n",
    "When you create a training job, you need to specify a configuration of a compute node (for single node training) or a cluster of nodes (for distributed) and what training code will each node run. You define the configuration of a node(s) but creating *Worker Pools Specifictions*. The core part of a worker pools definition are specification of machine types and accelerators.\n",
    "\n",
    "There are two ways of packaging your training code to run on worker pools. \n",
    "\n",
    "- **Use a Google Cloud prebuilt container**. If you use a prebuilt container, you will additionally specify a Python package to install into the container image. This Python package contains your code for training a custom model.\n",
    "\n",
    "- **Use your own custom container image**. If you use your own container, the container needs to contain your code for training a custom model.\n",
    "\n",
    "In this tutorial, you will use your own custom container.\n",
    "\n",
    "In the following sections you will create a custom container image that packages your training code followed by defining and submitting both single node and distributed training jobs.\n"
   ]
  },
  {
   "cell_type": "markdown",
   "metadata": {
    "id": "Fn-LlmWGxa35"
   },
   "source": [
    "### Creating the training container image\n",
    "\n",
    "\n",
    "To create a custom training container you need to define a Python training module and package it in a container image together with all the required dependencies.\n",
    "\n",
    "#### Create the training module\n",
    "\n",
    "We will use the code snippets from the `01_bert_finetuning_local.ipynb` as the base for traning module. The major difference is that the training module will use `tfrecords` files you created in the previous step as its input data. Also the training module supports the [MultiWorkerMirroredStrategy](https://www.tensorflow.org/api_docs/python/tf/distribute/experimental/MultiWorkerMirroredStrategy) in addtion to [MirroredStrategy](https://www.tensorflow.org/api_docs/python/tf/distribute/MirroredStrategy) for distributed training."
   ]
  },
  {
   "cell_type": "code",
   "execution_count": 25,
   "metadata": {
    "id": "R4yEjEt8xa36"
   },
   "outputs": [],
   "source": [
    "! rm -rf trainer\n",
    "! mkdir trainer\n",
    "! touch trainer/__init__.py"
   ]
  },
  {
   "cell_type": "code",
   "execution_count": 42,
   "metadata": {},
   "outputs": [
    {
     "name": "stdout",
     "output_type": "stream",
     "text": [
      "Overwriting trainer/task.py\n"
     ]
    }
   ],
   "source": [
    "%%writefile trainer/task.py\n",
    "\n",
    "\n",
    "# Copyright 2021 Google Inc. All Rights Reserved.\n",
    "#\n",
    "# Licensed under the Apache License, Version 2.0 (the \"License\");\n",
    "# you may not use this file except in compliance with the License.\n",
    "# You may obtain a copy of the License at\n",
    "#\n",
    "#            http://www.apache.org/licenses/LICENSE-2.0\n",
    "#\n",
    "# Unless required by applicable law or agreed to in writing, software\n",
    "# distributed under the License is distributed on an \"AS IS\" BASIS,\n",
    "# WITHOUT WARRANTIES OR CONDITIONS OF ANY KIND, either express or implied.\n",
    "# See the License for the specific language governing permissions and\n",
    "\n",
    "import os\n",
    "import tensorflow as tf\n",
    "import tensorflow_hub as hub\n",
    "import tensorflow_text as text\n",
    "\n",
    "from absl import app\n",
    "from absl import flags\n",
    "from absl import logging\n",
    "from official.nlp import optimization \n",
    "\n",
    "\n",
    "TFHUB_HANDLE_ENCODER = 'https://tfhub.dev/tensorflow/bert_en_uncased_L-12_H-768_A-12/3'\n",
    "TFHUB_HANDLE_PREPROCESS = 'https://tfhub.dev/tensorflow/bert_en_uncased_preprocess/3'\n",
    "LOCAL_TB_FOLDER = '/tmp/logs'\n",
    "\n",
    "FLAGS = flags.FLAGS\n",
    "flags.DEFINE_integer('steps_per_epoch', 625, 'Steps per training epoch')\n",
    "flags.DEFINE_integer('eval_steps', 150, 'Evaluation steps')\n",
    "flags.DEFINE_integer('epochs', 2, 'Nubmer of epochs')\n",
    "flags.DEFINE_integer('per_replica_batch_size', 32, 'Per replica batch size')\n",
    "flags.DEFINE_string('training_data_path', 'gs://jk-demos-bucket/tfrecords/train', 'Training data GCS path')\n",
    "flags.DEFINE_string('validation_data_path', 'gs://jk-demos-bucket/tfrecords/valid', 'Validation data GCS path')\n",
    "flags.DEFINE_string('testing_data_path', 'gs://jk-demos-bucket/data/imdb/test', 'Testing data GCS path')\n",
    "\n",
    "flags.DEFINE_string('job_dir', 'gs://jk-demos-bucket/jobs', 'A base GCS path for jobs')\n",
    "flags.DEFINE_enum('strategy', 'mirrored', ['mirrored', 'multiworker'], 'Distribution strategy')\n",
    "\n",
    "flags.DEFINE_bool('is_chief', True, 'Set on a chief worker in multi-worker setup')\n",
    "\n",
    "\n",
    "def create_unbatched_dataset(tfrecords_folder):\n",
    "    \"\"\"Creates an unbatched dataset in the format required by the \n",
    "       sentiment analysis model from the folder with TFrecords files.\"\"\"\n",
    "    \n",
    "    feature_description = {\n",
    "        'text_fragment': tf.io.FixedLenFeature([], tf.string, default_value=''),\n",
    "        'label': tf.io.FixedLenFeature([], tf.int64, default_value=0),\n",
    "    }\n",
    "\n",
    "    def _parse_function(example_proto):\n",
    "        parsed_example = tf.io.parse_single_example(example_proto, feature_description)\n",
    "        return parsed_example['text_fragment'], parsed_example['label']\n",
    "  \n",
    "    file_paths = [f'{tfrecords_folder}/{file_path}' for file_path in tf.io.gfile.listdir(tfrecords_folder)]\n",
    "    dataset = tf.data.TFRecordDataset(file_paths)\n",
    "    dataset = dataset.map(_parse_function)\n",
    "    \n",
    "    return dataset\n",
    "\n",
    "\n",
    "def configure_dataset_for_performance(ds):\n",
    "    \"\"\"\n",
    "    Optimizes the performance of a dataset.\n",
    "    \"\"\"\n",
    "    \n",
    "    ds = ds.cache()\n",
    "    ds = ds.prefetch(buffer_size=tf.data.AUTOTUNE)\n",
    "    return ds\n",
    "\n",
    "\n",
    "def create_input_pipelines(train_dir, valid_dir, test_dir, batch_size):\n",
    "    \"\"\"Creates input pipelines from Imdb dataset.\"\"\"\n",
    "    \n",
    "    train_ds = create_unbatched_dataset(train_dir)\n",
    "    train_ds = train_ds.batch(batch_size)\n",
    "    train_ds = configure_dataset_for_performance(train_ds)\n",
    "    \n",
    "    valid_ds = create_unbatched_dataset(valid_dir)\n",
    "    valid_ds = valid_ds.batch(batch_size)\n",
    "    valid_ds = configure_dataset_for_performance(valid_ds)\n",
    "    \n",
    "    test_ds = create_unbatched_dataset(test_dir)\n",
    "    test_ds = test_ds.batch(batch_size)\n",
    "    test_ds = configure_dataset_for_performance(test_ds)\n",
    "\n",
    "    return train_ds, valid_ds, test_ds\n",
    "\n",
    "\n",
    "def build_classifier_model(tfhub_handle_preprocess, tfhub_handle_encoder):\n",
    "    \"\"\"Builds a simple binary classification model with BERT trunk.\"\"\"\n",
    "    \n",
    "    text_input = tf.keras.layers.Input(shape=(), dtype=tf.string, name='text')\n",
    "    preprocessing_layer = hub.KerasLayer(tfhub_handle_preprocess, name='preprocessing')\n",
    "    encoder_inputs = preprocessing_layer(text_input)\n",
    "    encoder = hub.KerasLayer(tfhub_handle_encoder, trainable=True, name='BERT_encoder')\n",
    "    outputs = encoder(encoder_inputs)\n",
    "    net = outputs['pooled_output']\n",
    "    net = tf.keras.layers.Dropout(0.1)(net)\n",
    "    net = tf.keras.layers.Dense(1, activation=None, name='classifier')(net)\n",
    "    \n",
    "    return tf.keras.Model(text_input, net)\n",
    "\n",
    "\n",
    "def copy_tensorboard_logs(local_path: str, gcs_path: str):\n",
    "    \"\"\"Copies Tensorboard logs from a local dir to a GCS location.\n",
    "    \n",
    "    After training, batch copy Tensorboard logs locally to a GCS location. This can result\n",
    "    in faster pipeline runtimes over streaming logs per batch to GCS that can get bottlenecked\n",
    "    when streaming large volumes.\n",
    "    \n",
    "    Args:\n",
    "      local_path: local filesystem directory uri.\n",
    "      gcs_path: cloud filesystem directory uri.\n",
    "    Returns:\n",
    "      None.\n",
    "    \"\"\"\n",
    "    pattern = '{}/*/events.out.tfevents.*'.format(local_path)\n",
    "    local_files = tf.io.gfile.glob(pattern)\n",
    "    gcs_log_files = [local_file.replace(local_path, gcs_path) for local_file in local_files]\n",
    "    for local_file, gcs_file in zip(local_files, gcs_log_files):\n",
    "        tf.io.gfile.copy(local_file, gcs_file)\n",
    "\n",
    "\n",
    "def main(argv):\n",
    "    del argv\n",
    "    \n",
    "    logging.info('Setting up training.')\n",
    "    logging.info('   epochs: {}'.format(FLAGS.epochs))\n",
    "    logging.info('   steps_per_epoch: {}'.format(FLAGS.steps_per_epoch))\n",
    "    logging.info('   eval_steps: {}'.format(FLAGS.eval_steps))\n",
    "    logging.info('   strategy: {}'.format(FLAGS.strategy))\n",
    "    \n",
    "    if FLAGS.strategy == 'mirrored':\n",
    "        strategy = tf.distribute.MirroredStrategy()\n",
    "    else:\n",
    "        strategy = tf.distribute.MultiWorkerMirroredStrategy()\n",
    "    \n",
    "    global_batch_size = (strategy.num_replicas_in_sync *\n",
    "                         FLAGS.per_replica_batch_size)\n",
    "    \n",
    "    \n",
    "    train_ds, valid_ds, test_ds = create_input_pipelines(\n",
    "        FLAGS.training_data_path,\n",
    "        FLAGS.validation_data_path,\n",
    "        FLAGS.testing_data_path,\n",
    "        global_batch_size)\n",
    "        \n",
    "    num_train_steps = FLAGS.steps_per_epoch * FLAGS.epochs\n",
    "    num_warmup_steps = int(0.1*num_train_steps)\n",
    "    init_lr = 3e-5\n",
    "    \n",
    "    with strategy.scope():\n",
    "        model = build_classifier_model(TFHUB_HANDLE_PREPROCESS, TFHUB_HANDLE_ENCODER)\n",
    "        loss = tf.keras.losses.BinaryCrossentropy(from_logits=True)\n",
    "        metrics = tf.metrics.BinaryAccuracy()\n",
    "        optimizer = optimization.create_optimizer(\n",
    "            init_lr=init_lr,\n",
    "            num_train_steps=num_train_steps,\n",
    "            num_warmup_steps=num_warmup_steps,\n",
    "            optimizer_type='adamw')\n",
    "\n",
    "        model.compile(optimizer=optimizer,\n",
    "                      loss=loss,\n",
    "                      metrics=metrics)\n",
    "        \n",
    "    # Configure BackupAndRestore callback\n",
    "    backup_dir = '{}/backupandrestore'.format(FLAGS.job_dir)\n",
    "    callbacks = [tf.keras.callbacks.experimental.BackupAndRestore(backup_dir=backup_dir)]\n",
    "    \n",
    "    # Configure TensorBoard callback on Chief\n",
    "    if FLAGS.is_chief:\n",
    "        callbacks.append(tf.keras.callbacks.TensorBoard(\n",
    "            log_dir=LOCAL_TB_FOLDER, update_freq='batch'))\n",
    "    \n",
    "    logging.info('Starting training ...')\n",
    "    \n",
    "    history = model.fit(x=train_ds,\n",
    "                        validation_data=valid_ds,\n",
    "                        steps_per_epoch=FLAGS.steps_per_epoch,\n",
    "                        validation_steps=FLAGS.eval_steps,\n",
    "                        epochs=FLAGS.epochs,\n",
    "                        callbacks=callbacks)\n",
    "\n",
    "    saved_model_dir = '{}/saved_model'.format(FLAGS.job_dir)\n",
    "    logging.info('Training completed. Saving the trained model to: {}'.format(saved_model_dir))\n",
    "    model.save(saved_model_dir)\n",
    "    \n",
    "    # Copy tensorboard logs to GCS\n",
    "    if FLAGS.is_chief:\n",
    "        tb_logs = '{}/tb_logs'.format(FLAGS.job_dir)\n",
    "        logging.info('Copying TensorBoard logs to: {}'.format(tb_logs))\n",
    "        copy_tensorboard_logs(LOCAL_TB_FOLDER, tb_logs)\n",
    "        \n",
    "    \n",
    "if __name__ == '__main__':\n",
    "    logging.set_verbosity(logging.INFO)\n",
    "    app.run(main)\n"
   ]
  },
  {
   "cell_type": "markdown",
   "metadata": {},
   "source": [
    "#### Create a docker file\n",
    "\n",
    "We will use a standard Deep Learning container image as the base for our custom training container image."
   ]
  },
  {
   "cell_type": "code",
   "execution_count": 43,
   "metadata": {},
   "outputs": [],
   "source": [
    "TRAIN_BASE_IMAGE = 'gcr.io/deeplearning-platform-release/tf2-gpu.2-4'"
   ]
  },
  {
   "cell_type": "code",
   "execution_count": 44,
   "metadata": {},
   "outputs": [],
   "source": [
    "dockerfile = f'''\n",
    "FROM {TRAIN_BASE_IMAGE}\n",
    "\n",
    "RUN pip install pip install tf-models-official tensorflow-text \n",
    "\n",
    "WORKDIR /\n",
    "\n",
    "# Copies the trainer code to the docker image.\n",
    "COPY trainer /trainer\n",
    "\n",
    "# Sets up the entry point to invoke the trainer.\n",
    "ENTRYPOINT [\"python\", \"-m\", \"trainer.task\"]\n",
    "'''\n",
    "\n",
    "with open('Dockerfile', 'w') as f:\n",
    "    f.write(dockerfile)"
   ]
  },
  {
   "cell_type": "markdown",
   "metadata": {},
   "source": [
    "#### Build a container image and upload it to your Container Registry"
   ]
  },
  {
   "cell_type": "code",
   "execution_count": 45,
   "metadata": {},
   "outputs": [
    {
     "name": "stdout",
     "output_type": "stream",
     "text": [
      "Sending build context to Docker daemon    103MB\n",
      "Step 1/5 : FROM gcr.io/deeplearning-platform-release/tf2-gpu.2-4\n",
      " ---> 4306f1450ab2\n",
      "Step 2/5 : RUN pip install pip install tf-models-official tensorflow-text\n",
      " ---> Using cache\n",
      " ---> 7b2d2b45760c\n",
      "Step 3/5 : WORKDIR /\n",
      " ---> Using cache\n",
      " ---> 0caf2dd68ae4\n",
      "Step 4/5 : COPY trainer /trainer\n",
      " ---> fea95f2d8609\n",
      "Step 5/5 : ENTRYPOINT [\"python\", \"-m\", \"trainer.task\"]\n",
      " ---> Running in c663e9a6d024\n",
      "Removing intermediate container c663e9a6d024\n",
      " ---> 9d6582e97b4c\n",
      "Successfully built 9d6582e97b4c\n",
      "Successfully tagged gcr.io/jk-demos/imdb_bert:latest\n"
     ]
    }
   ],
   "source": [
    "TRAIN_IMAGE = f'gcr.io/{PROJECT_ID}/imdb_bert'\n",
    "\n",
    "! docker build -t {TRAIN_IMAGE} ."
   ]
  },
  {
   "cell_type": "code",
   "execution_count": 46,
   "metadata": {},
   "outputs": [
    {
     "name": "stdout",
     "output_type": "stream",
     "text": [
      "The push refers to repository [gcr.io/jk-demos/imdb_bert]\n",
      "\n",
      "\u001b[1B9455f8ae: Preparing \n",
      "\u001b[1B45c0b789: Preparing \n",
      "\u001b[1B3b7141d8: Preparing \n",
      "\u001b[1B28f81e86: Preparing \n",
      "\u001b[1Bf77b619e: Preparing \n",
      "\u001b[1B22f25eab: Preparing \n",
      "\u001b[1B61cbfb7b: Preparing \n",
      "\u001b[1Bdb287c92: Preparing \n",
      "\u001b[1B0f881413: Preparing \n",
      "\u001b[1Be39f1882: Preparing \n",
      "\u001b[1B2059d805: Preparing \n",
      "\u001b[1Badd514e4: Preparing \n",
      "\u001b[1B40002f73: Preparing \n",
      "\u001b[1B7670164c: Preparing \n",
      "\u001b[1B88a169f3: Preparing \n",
      "\u001b[1Ba13b2926: Preparing \n",
      "\u001b[1Bd631abca: Preparing \n",
      "\u001b[1Bea8063f8: Preparing \n",
      "\u001b[1B5280894d: Preparing \n",
      "\u001b[1B65bc85a8: Preparing \n",
      "\u001b[15B1cbfb7b: Waiting g \n",
      "\u001b[11Bdd514e4: Waiting g \n",
      "\u001b[16Bb287c92: Waiting g \n",
      "\u001b[12B0002f73: Waiting g \n",
      "\u001b[15B059d805: Waiting g \n",
      "\u001b[18Bf881413: Waiting g \n",
      "\u001b[18B39f1882: Waiting g \n",
      "\u001b[1Bdf553184: Preparing \n",
      "\u001b[29B455f8ae: Pushed lready exists 1kB\u001b[29A\u001b[2K\u001b[26A\u001b[2K\u001b[24A\u001b[2K\u001b[22A\u001b[2K\u001b[20A\u001b[2K\u001b[16A\u001b[2K\u001b[13A\u001b[2K\u001b[12A\u001b[2K\u001b[7A\u001b[2K\u001b[4A\u001b[2K\u001b[3A\u001b[2K\u001b[29A\u001b[2Klatest: digest: sha256:9dd7b065fee1784139cfbae7f0bdcda97046875c0889899486952d6da2dadeda size: 6408\n"
     ]
    }
   ],
   "source": [
    "! docker push {TRAIN_IMAGE}"
   ]
  },
  {
   "cell_type": "markdown",
   "metadata": {},
   "source": [
    "Alternatively you use Cloud Build."
   ]
  },
  {
   "cell_type": "markdown",
   "metadata": {},
   "source": [
    "!gcloud builds submit --tag {TRAIN_IMAGE} ."
   ]
  },
  {
   "cell_type": "markdown",
   "metadata": {},
   "source": [
    "#### Testing the image locally"
   ]
  },
  {
   "cell_type": "code",
   "execution_count": 47,
   "metadata": {},
   "outputs": [
    {
     "name": "stdout",
     "output_type": "stream",
     "text": [
      "2021-03-01 04:46:55.290729: I tensorflow/stream_executor/platform/default/dso_loader.cc:49] Successfully opened dynamic library libcudart.so.11.0\n",
      "I0301 04:47:00.369121 140432099874624 task.py:132] Setting up training.\n",
      "I0301 04:47:00.369251 140432099874624 task.py:133]    epochs: 1\n",
      "I0301 04:47:00.369314 140432099874624 task.py:134]    steps_per_epoch: 10\n",
      "I0301 04:47:00.369362 140432099874624 task.py:135]    eval_steps: 5\n",
      "I0301 04:47:00.369406 140432099874624 task.py:136]    strategy: mirrored\n",
      "2021-03-01 04:47:00.369648: I tensorflow/compiler/jit/xla_cpu_device.cc:41] Not creating XLA devices, tf_xla_enable_xla_devices not set\n",
      "2021-03-01 04:47:00.370789: I tensorflow/stream_executor/platform/default/dso_loader.cc:49] Successfully opened dynamic library libcuda.so.1\n",
      "2021-03-01 04:47:00.395190: I tensorflow/stream_executor/cuda/cuda_gpu_executor.cc:941] successful NUMA node read from SysFS had negative value (-1), but there must be at least one NUMA node, so returning NUMA node zero\n",
      "2021-03-01 04:47:00.396045: I tensorflow/core/common_runtime/gpu/gpu_device.cc:1720] Found device 0 with properties: \n",
      "pciBusID: 0000:00:04.0 name: Tesla T4 computeCapability: 7.5\n",
      "coreClock: 1.59GHz coreCount: 40 deviceMemorySize: 14.75GiB deviceMemoryBandwidth: 298.08GiB/s\n",
      "2021-03-01 04:47:00.396189: I tensorflow/stream_executor/cuda/cuda_gpu_executor.cc:941] successful NUMA node read from SysFS had negative value (-1), but there must be at least one NUMA node, so returning NUMA node zero\n",
      "2021-03-01 04:47:00.396886: I tensorflow/core/common_runtime/gpu/gpu_device.cc:1720] Found device 1 with properties: \n",
      "pciBusID: 0000:00:05.0 name: Tesla T4 computeCapability: 7.5\n",
      "coreClock: 1.59GHz coreCount: 40 deviceMemorySize: 14.75GiB deviceMemoryBandwidth: 298.08GiB/s\n",
      "2021-03-01 04:47:00.396927: I tensorflow/stream_executor/platform/default/dso_loader.cc:49] Successfully opened dynamic library libcudart.so.11.0\n",
      "2021-03-01 04:47:00.400269: I tensorflow/stream_executor/platform/default/dso_loader.cc:49] Successfully opened dynamic library libcublas.so.11\n",
      "2021-03-01 04:47:00.400342: I tensorflow/stream_executor/platform/default/dso_loader.cc:49] Successfully opened dynamic library libcublasLt.so.11\n",
      "2021-03-01 04:47:00.401821: I tensorflow/stream_executor/platform/default/dso_loader.cc:49] Successfully opened dynamic library libcufft.so.10\n",
      "2021-03-01 04:47:00.402234: I tensorflow/stream_executor/platform/default/dso_loader.cc:49] Successfully opened dynamic library libcurand.so.10\n",
      "2021-03-01 04:47:00.405403: I tensorflow/stream_executor/platform/default/dso_loader.cc:49] Successfully opened dynamic library libcusolver.so.10\n",
      "2021-03-01 04:47:00.406341: I tensorflow/stream_executor/platform/default/dso_loader.cc:49] Successfully opened dynamic library libcusparse.so.11\n",
      "2021-03-01 04:47:00.406673: I tensorflow/stream_executor/platform/default/dso_loader.cc:49] Successfully opened dynamic library libcudnn.so.8\n",
      "2021-03-01 04:47:00.406849: I tensorflow/stream_executor/cuda/cuda_gpu_executor.cc:941] successful NUMA node read from SysFS had negative value (-1), but there must be at least one NUMA node, so returning NUMA node zero\n",
      "2021-03-01 04:47:00.407624: I tensorflow/stream_executor/cuda/cuda_gpu_executor.cc:941] successful NUMA node read from SysFS had negative value (-1), but there must be at least one NUMA node, so returning NUMA node zero\n",
      "2021-03-01 04:47:00.408394: I tensorflow/stream_executor/cuda/cuda_gpu_executor.cc:941] successful NUMA node read from SysFS had negative value (-1), but there must be at least one NUMA node, so returning NUMA node zero\n",
      "2021-03-01 04:47:00.409233: I tensorflow/stream_executor/cuda/cuda_gpu_executor.cc:941] successful NUMA node read from SysFS had negative value (-1), but there must be at least one NUMA node, so returning NUMA node zero\n",
      "2021-03-01 04:47:00.410035: I tensorflow/core/common_runtime/gpu/gpu_device.cc:1862] Adding visible gpu devices: 0, 1\n",
      "2021-03-01 04:47:00.410387: I tensorflow/core/platform/cpu_feature_guard.cc:142] This TensorFlow binary is optimized with oneAPI Deep Neural Network Library (oneDNN) to use the following CPU instructions in performance-critical operations:  AVX2 FMA\n",
      "To enable them in other operations, rebuild TensorFlow with the appropriate compiler flags.\n",
      "2021-03-01 04:47:00.411031: I tensorflow/compiler/jit/xla_gpu_device.cc:99] Not creating XLA devices, tf_xla_enable_xla_devices not set\n",
      "2021-03-01 04:47:00.606965: I tensorflow/stream_executor/cuda/cuda_gpu_executor.cc:941] successful NUMA node read from SysFS had negative value (-1), but there must be at least one NUMA node, so returning NUMA node zero\n",
      "2021-03-01 04:47:00.607713: I tensorflow/core/common_runtime/gpu/gpu_device.cc:1720] Found device 0 with properties: \n",
      "pciBusID: 0000:00:04.0 name: Tesla T4 computeCapability: 7.5\n",
      "coreClock: 1.59GHz coreCount: 40 deviceMemorySize: 14.75GiB deviceMemoryBandwidth: 298.08GiB/s\n",
      "2021-03-01 04:47:00.607902: I tensorflow/stream_executor/cuda/cuda_gpu_executor.cc:941] successful NUMA node read from SysFS had negative value (-1), but there must be at least one NUMA node, so returning NUMA node zero\n",
      "2021-03-01 04:47:00.608681: I tensorflow/core/common_runtime/gpu/gpu_device.cc:1720] Found device 1 with properties: \n",
      "pciBusID: 0000:00:05.0 name: Tesla T4 computeCapability: 7.5\n",
      "coreClock: 1.59GHz coreCount: 40 deviceMemorySize: 14.75GiB deviceMemoryBandwidth: 298.08GiB/s\n",
      "2021-03-01 04:47:00.608736: I tensorflow/stream_executor/platform/default/dso_loader.cc:49] Successfully opened dynamic library libcudart.so.11.0\n",
      "2021-03-01 04:47:00.608806: I tensorflow/stream_executor/platform/default/dso_loader.cc:49] Successfully opened dynamic library libcublas.so.11\n",
      "2021-03-01 04:47:00.608834: I tensorflow/stream_executor/platform/default/dso_loader.cc:49] Successfully opened dynamic library libcublasLt.so.11\n",
      "2021-03-01 04:47:00.608854: I tensorflow/stream_executor/platform/default/dso_loader.cc:49] Successfully opened dynamic library libcufft.so.10\n",
      "2021-03-01 04:47:00.608888: I tensorflow/stream_executor/platform/default/dso_loader.cc:49] Successfully opened dynamic library libcurand.so.10\n",
      "2021-03-01 04:47:00.608917: I tensorflow/stream_executor/platform/default/dso_loader.cc:49] Successfully opened dynamic library libcusolver.so.10\n",
      "2021-03-01 04:47:00.608946: I tensorflow/stream_executor/platform/default/dso_loader.cc:49] Successfully opened dynamic library libcusparse.so.11\n",
      "2021-03-01 04:47:00.608976: I tensorflow/stream_executor/platform/default/dso_loader.cc:49] Successfully opened dynamic library libcudnn.so.8\n",
      "2021-03-01 04:47:00.609099: I tensorflow/stream_executor/cuda/cuda_gpu_executor.cc:941] successful NUMA node read from SysFS had negative value (-1), but there must be at least one NUMA node, so returning NUMA node zero\n",
      "2021-03-01 04:47:00.609889: I tensorflow/stream_executor/cuda/cuda_gpu_executor.cc:941] successful NUMA node read from SysFS had negative value (-1), but there must be at least one NUMA node, so returning NUMA node zero\n",
      "2021-03-01 04:47:00.610624: I tensorflow/stream_executor/cuda/cuda_gpu_executor.cc:941] successful NUMA node read from SysFS had negative value (-1), but there must be at least one NUMA node, so returning NUMA node zero\n",
      "2021-03-01 04:47:00.611351: I tensorflow/stream_executor/cuda/cuda_gpu_executor.cc:941] successful NUMA node read from SysFS had negative value (-1), but there must be at least one NUMA node, so returning NUMA node zero\n",
      "2021-03-01 04:47:00.612023: I tensorflow/core/common_runtime/gpu/gpu_device.cc:1862] Adding visible gpu devices: 0, 1\n",
      "2021-03-01 04:47:00.612075: I tensorflow/stream_executor/platform/default/dso_loader.cc:49] Successfully opened dynamic library libcudart.so.11.0\n",
      "2021-03-01 04:47:01.360312: I tensorflow/core/common_runtime/gpu/gpu_device.cc:1261] Device interconnect StreamExecutor with strength 1 edge matrix:\n",
      "2021-03-01 04:47:01.360383: I tensorflow/core/common_runtime/gpu/gpu_device.cc:1267]      0 1 \n",
      "2021-03-01 04:47:01.360396: I tensorflow/core/common_runtime/gpu/gpu_device.cc:1280] 0:   N N \n",
      "2021-03-01 04:47:01.360411: I tensorflow/core/common_runtime/gpu/gpu_device.cc:1280] 1:   N N \n",
      "2021-03-01 04:47:01.360739: I tensorflow/stream_executor/cuda/cuda_gpu_executor.cc:941] successful NUMA node read from SysFS had negative value (-1), but there must be at least one NUMA node, so returning NUMA node zero\n",
      "2021-03-01 04:47:01.361730: I tensorflow/stream_executor/cuda/cuda_gpu_executor.cc:941] successful NUMA node read from SysFS had negative value (-1), but there must be at least one NUMA node, so returning NUMA node zero\n",
      "2021-03-01 04:47:01.362609: I tensorflow/stream_executor/cuda/cuda_gpu_executor.cc:941] successful NUMA node read from SysFS had negative value (-1), but there must be at least one NUMA node, so returning NUMA node zero\n",
      "2021-03-01 04:47:01.363444: I tensorflow/stream_executor/cuda/cuda_gpu_executor.cc:941] successful NUMA node read from SysFS had negative value (-1), but there must be at least one NUMA node, so returning NUMA node zero\n",
      "2021-03-01 04:47:01.364221: I tensorflow/core/common_runtime/gpu/gpu_device.cc:1406] Created TensorFlow device (/job:localhost/replica:0/task:0/device:GPU:0 with 13788 MB memory) -> physical GPU (device: 0, name: Tesla T4, pci bus id: 0000:00:04.0, compute capability: 7.5)\n",
      "2021-03-01 04:47:01.365210: I tensorflow/stream_executor/cuda/cuda_gpu_executor.cc:941] successful NUMA node read from SysFS had negative value (-1), but there must be at least one NUMA node, so returning NUMA node zero\n",
      "2021-03-01 04:47:01.366095: I tensorflow/stream_executor/cuda/cuda_gpu_executor.cc:941] successful NUMA node read from SysFS had negative value (-1), but there must be at least one NUMA node, so returning NUMA node zero\n",
      "2021-03-01 04:47:01.366904: I tensorflow/core/common_runtime/gpu/gpu_device.cc:1406] Created TensorFlow device (/job:localhost/replica:0/task:0/device:GPU:1 with 13788 MB memory) -> physical GPU (device: 1, name: Tesla T4, pci bus id: 0000:00:05.0, compute capability: 7.5)\n",
      "INFO:tensorflow:Using MirroredStrategy with devices ('/job:localhost/replica:0/task:0/device:GPU:0', '/job:localhost/replica:0/task:0/device:GPU:1')\n",
      "I0301 04:47:01.370489 140432099874624 mirrored_strategy.py:350] Using MirroredStrategy with devices ('/job:localhost/replica:0/task:0/device:GPU:0', '/job:localhost/replica:0/task:0/device:GPU:1')\n",
      "I0301 04:47:01.917512 140432099874624 resolver.py:79] Using /tmp/tfhub_modules to cache modules.\n",
      "I0301 04:47:01.918166 140432099874624 resolver.py:416] Downloading TF-Hub Module 'https://tfhub.dev/tensorflow/bert_en_uncased_preprocess/3'.\n",
      "I0301 04:47:02.210084 140432099874624 resolver.py:122] Downloaded https://tfhub.dev/tensorflow/bert_en_uncased_preprocess/3, Total size: 1.96MB\n",
      "I0301 04:47:02.210541 140432099874624 resolver.py:431] Downloaded TF-Hub Module 'https://tfhub.dev/tensorflow/bert_en_uncased_preprocess/3'.\n",
      "2021-03-01 04:47:04.142855: I tensorflow/compiler/mlir/mlir_graph_optimization_pass.cc:116] None of the MLIR optimization passes are enabled (registered 2)\n",
      "2021-03-01 04:47:04.143510: I tensorflow/core/platform/profile_utils/cpu_utils.cc:112] CPU Frequency: 2199995000 Hz\n",
      "I0301 04:47:04.758695 140432099874624 resolver.py:416] Downloading TF-Hub Module 'https://tfhub.dev/tensorflow/bert_en_uncased_L-12_H-768_A-12/3'.\n",
      "I0301 04:47:09.527615 140432099874624 resolver.py:122] Downloaded https://tfhub.dev/tensorflow/bert_en_uncased_L-12_H-768_A-12/3, Total size: 434.04MB\n",
      "I0301 04:47:09.528039 140432099874624 resolver.py:431] Downloaded TF-Hub Module 'https://tfhub.dev/tensorflow/bert_en_uncased_L-12_H-768_A-12/3'.\n",
      "INFO:tensorflow:Reduce to /job:localhost/replica:0/task:0/device:CPU:0 then broadcast to ('/job:localhost/replica:0/task:0/device:CPU:0',).\n",
      "I0301 04:47:21.162988 140432099874624 cross_device_ops.py:565] Reduce to /job:localhost/replica:0/task:0/device:CPU:0 then broadcast to ('/job:localhost/replica:0/task:0/device:CPU:0',).\n",
      "INFO:tensorflow:Reduce to /job:localhost/replica:0/task:0/device:CPU:0 then broadcast to ('/job:localhost/replica:0/task:0/device:CPU:0',).\n",
      "I0301 04:47:21.164448 140432099874624 cross_device_ops.py:565] Reduce to /job:localhost/replica:0/task:0/device:CPU:0 then broadcast to ('/job:localhost/replica:0/task:0/device:CPU:0',).\n",
      "INFO:tensorflow:Reduce to /job:localhost/replica:0/task:0/device:CPU:0 then broadcast to ('/job:localhost/replica:0/task:0/device:CPU:0',).\n",
      "I0301 04:47:21.167244 140432099874624 cross_device_ops.py:565] Reduce to /job:localhost/replica:0/task:0/device:CPU:0 then broadcast to ('/job:localhost/replica:0/task:0/device:CPU:0',).\n",
      "INFO:tensorflow:Reduce to /job:localhost/replica:0/task:0/device:CPU:0 then broadcast to ('/job:localhost/replica:0/task:0/device:CPU:0',).\n",
      "I0301 04:47:21.168343 140432099874624 cross_device_ops.py:565] Reduce to /job:localhost/replica:0/task:0/device:CPU:0 then broadcast to ('/job:localhost/replica:0/task:0/device:CPU:0',).\n",
      "I0301 04:47:21.169722 140432099874624 optimization.py:89] using Adamw optimizer\n",
      "I0301 04:47:21.169991 140432099874624 optimization.py:142] gradient_clip_norm=1.000000\n",
      "INFO:tensorflow:Reduce to /job:localhost/replica:0/task:0/device:CPU:0 then broadcast to ('/job:localhost/replica:0/task:0/device:CPU:0',).\n",
      "I0301 04:47:21.178027 140432099874624 cross_device_ops.py:565] Reduce to /job:localhost/replica:0/task:0/device:CPU:0 then broadcast to ('/job:localhost/replica:0/task:0/device:CPU:0',).\n",
      "INFO:tensorflow:Reduce to /job:localhost/replica:0/task:0/device:CPU:0 then broadcast to ('/job:localhost/replica:0/task:0/device:CPU:0',).\n",
      "I0301 04:47:21.178940 140432099874624 cross_device_ops.py:565] Reduce to /job:localhost/replica:0/task:0/device:CPU:0 then broadcast to ('/job:localhost/replica:0/task:0/device:CPU:0',).\n",
      "INFO:tensorflow:Reduce to /job:localhost/replica:0/task:0/device:CPU:0 then broadcast to ('/job:localhost/replica:0/task:0/device:CPU:0',).\n",
      "I0301 04:47:21.180983 140432099874624 cross_device_ops.py:565] Reduce to /job:localhost/replica:0/task:0/device:CPU:0 then broadcast to ('/job:localhost/replica:0/task:0/device:CPU:0',).\n",
      "INFO:tensorflow:Reduce to /job:localhost/replica:0/task:0/device:CPU:0 then broadcast to ('/job:localhost/replica:0/task:0/device:CPU:0',).\n",
      "I0301 04:47:21.181931 140432099874624 cross_device_ops.py:565] Reduce to /job:localhost/replica:0/task:0/device:CPU:0 then broadcast to ('/job:localhost/replica:0/task:0/device:CPU:0',).\n",
      "2021-03-01 04:47:21.185718: I tensorflow/core/profiler/lib/profiler_session.cc:136] Profiler session initializing.\n",
      "2021-03-01 04:47:21.185771: I tensorflow/core/profiler/lib/profiler_session.cc:155] Profiler session started.\n",
      "2021-03-01 04:47:21.185799: I tensorflow/core/profiler/internal/gpu/cupti_tracer.cc:1365] Profiler found 2 GPUs\n",
      "2021-03-01 04:47:21.186928: I tensorflow/stream_executor/platform/default/dso_loader.cc:49] Successfully opened dynamic library libcupti.so.11.0\n",
      "2021-03-01 04:47:21.390064: I tensorflow/core/profiler/lib/profiler_session.cc:172] Profiler session tear down.\n",
      "2021-03-01 04:47:21.390284: I tensorflow/core/profiler/internal/gpu/cupti_tracer.cc:1487] CUPTI activity buffer flushed\n",
      "I0301 04:47:21.528861 140432099874624 task.py:182] Starting training ...\n",
      "INFO:tensorflow:batch_all_reduce: 200 all-reduces with algorithm = nccl, num_packs = 1\n",
      "I0301 04:47:30.811405 140432099874624 cross_device_ops.py:847] batch_all_reduce: 200 all-reduces with algorithm = nccl, num_packs = 1\n",
      "WARNING:tensorflow:Efficient allreduce is not supported for 1 IndexedSlices\n",
      "W0301 04:47:31.747552 140432099874624 cross_device_ops.py:876] Efficient allreduce is not supported for 1 IndexedSlices\n",
      "INFO:tensorflow:Reduce to /job:localhost/replica:0/task:0/device:GPU:0 then broadcast to ('/job:localhost/replica:0/task:0/device:GPU:0', '/job:localhost/replica:0/task:0/device:GPU:1').\n",
      "I0301 04:47:31.747812 140432099874624 cross_device_ops.py:565] Reduce to /job:localhost/replica:0/task:0/device:GPU:0 then broadcast to ('/job:localhost/replica:0/task:0/device:GPU:0', '/job:localhost/replica:0/task:0/device:GPU:1').\n",
      "INFO:tensorflow:Reduce to /job:localhost/replica:0/task:0/device:CPU:0 then broadcast to ('/job:localhost/replica:0/task:0/device:CPU:0',).\n",
      "I0301 04:47:32.933766 140432099874624 cross_device_ops.py:565] Reduce to /job:localhost/replica:0/task:0/device:CPU:0 then broadcast to ('/job:localhost/replica:0/task:0/device:CPU:0',).\n",
      "INFO:tensorflow:Reduce to /job:localhost/replica:0/task:0/device:CPU:0 then broadcast to ('/job:localhost/replica:0/task:0/device:CPU:0',).\n",
      "I0301 04:47:32.936337 140432099874624 cross_device_ops.py:565] Reduce to /job:localhost/replica:0/task:0/device:CPU:0 then broadcast to ('/job:localhost/replica:0/task:0/device:CPU:0',).\n",
      "INFO:tensorflow:batch_all_reduce: 200 all-reduces with algorithm = nccl, num_packs = 1\n",
      "I0301 04:47:35.005970 140432099874624 cross_device_ops.py:847] batch_all_reduce: 200 all-reduces with algorithm = nccl, num_packs = 1\n",
      "WARNING:tensorflow:Efficient allreduce is not supported for 1 IndexedSlices\n",
      "W0301 04:47:35.943516 140432099874624 cross_device_ops.py:876] Efficient allreduce is not supported for 1 IndexedSlices\n",
      "INFO:tensorflow:Reduce to /job:localhost/replica:0/task:0/device:GPU:0 then broadcast to ('/job:localhost/replica:0/task:0/device:GPU:0', '/job:localhost/replica:0/task:0/device:GPU:1').\n",
      "I0301 04:47:35.943793 140432099874624 cross_device_ops.py:565] Reduce to /job:localhost/replica:0/task:0/device:GPU:0 then broadcast to ('/job:localhost/replica:0/task:0/device:GPU:0', '/job:localhost/replica:0/task:0/device:GPU:1').\n",
      "2021-03-01 04:47:50.036374: I tensorflow/stream_executor/platform/default/dso_loader.cc:49] Successfully opened dynamic library libcublas.so.11\n",
      "2021-03-01 04:47:50.481038: I tensorflow/stream_executor/platform/default/dso_loader.cc:49] Successfully opened dynamic library libcublasLt.so.11\n",
      " 1/10 [==>...........................] - ETA: 4:34 - loss: 0.7288 - binary_accuracy: 0.35942021-03-01 04:47:53.705502: I tensorflow/core/profiler/lib/profiler_session.cc:136] Profiler session initializing.\n",
      "2021-03-01 04:47:53.705568: I tensorflow/core/profiler/lib/profiler_session.cc:155] Profiler session started.\n",
      " 2/10 [=====>........................] - ETA: 24s - loss: 0.7405 - binary_accuracy: 0.3867 2021-03-01 04:47:55.279339: I tensorflow/core/profiler/lib/profiler_session.cc:71] Profiler session collecting data.\n",
      "2021-03-01 04:47:55.288826: I tensorflow/core/profiler/internal/gpu/cupti_tracer.cc:1487] CUPTI activity buffer flushed\n",
      "2021-03-01 04:47:55.546591: I tensorflow/core/profiler/internal/gpu/cupti_collector.cc:228]  GpuTracer has collected 11540 callback api events and 11533 activity events. \n",
      "2021-03-01 04:47:55.924536: I tensorflow/core/profiler/lib/profiler_session.cc:172] Profiler session tear down.\n",
      "2021-03-01 04:47:56.275311: I tensorflow/core/profiler/rpc/client/save_profile.cc:137] Creating directory: /tmp/logs/train/plugins/profile/2021_03_01_04_47_55\n",
      "2021-03-01 04:47:56.526427: I tensorflow/core/profiler/rpc/client/save_profile.cc:143] Dumped gzipped tool data for trace.json.gz to /tmp/logs/train/plugins/profile/2021_03_01_04_47_55/7ef2f5418937.trace.json.gz\n",
      "2021-03-01 04:47:56.898452: I tensorflow/core/profiler/rpc/client/save_profile.cc:137] Creating directory: /tmp/logs/train/plugins/profile/2021_03_01_04_47_55\n",
      "2021-03-01 04:47:56.918810: I tensorflow/core/profiler/rpc/client/save_profile.cc:143] Dumped gzipped tool data for memory_profile.json.gz to /tmp/logs/train/plugins/profile/2021_03_01_04_47_55/7ef2f5418937.memory_profile.json.gz\n",
      "2021-03-01 04:47:56.933369: I tensorflow/core/profiler/rpc/client/capture_profile.cc:251] Creating directory: /tmp/logs/train/plugins/profile/2021_03_01_04_47_55Dumped tool data for xplane.pb to /tmp/logs/train/plugins/profile/2021_03_01_04_47_55/7ef2f5418937.xplane.pb\n",
      "Dumped tool data for overview_page.pb to /tmp/logs/train/plugins/profile/2021_03_01_04_47_55/7ef2f5418937.overview_page.pb\n",
      "Dumped tool data for input_pipeline.pb to /tmp/logs/train/plugins/profile/2021_03_01_04_47_55/7ef2f5418937.input_pipeline.pb\n",
      "Dumped tool data for tensorflow_stats.pb to /tmp/logs/train/plugins/profile/2021_03_01_04_47_55/7ef2f5418937.tensorflow_stats.pb\n",
      "Dumped tool data for kernel_stats.pb to /tmp/logs/train/plugins/profile/2021_03_01_04_47_55/7ef2f5418937.kernel_stats.pb\n",
      "\n",
      "10/10 [==============================] - ETA: 0s - loss: 0.7266 - binary_accuracy: 0.45732021-03-01 04:48:10.425225: W tensorflow/core/kernels/data/cache_dataset_ops.cc:757] The calling iterator did not fully read the dataset being cached. In order to avoid unexpected truncation of the dataset, the partially cached contents of the dataset will be discarded. This can happen if you have an input pipeline similar to `dataset.cache().take(k).repeat()`. You should use `dataset.take(k).cache().repeat()` instead.\n",
      "10/10 [==============================] - 49s 2s/step - loss: 0.7242 - binary_accuracy: 0.4623 - val_loss: 0.6955 - val_binary_accuracy: 0.4688\n",
      "2021-03-01 04:48:29.496136: W tensorflow/core/kernels/data/cache_dataset_ops.cc:757] The calling iterator did not fully read the dataset being cached. In order to avoid unexpected truncation of the dataset, the partially cached contents of the dataset will be discarded. This can happen if you have an input pipeline similar to `dataset.cache().take(k).repeat()`. You should use `dataset.take(k).cache().repeat()` instead.\n",
      "I0301 04:48:29.497364 140432099874624 task.py:192] Training completed. Saving the trained model to: gs://jk-demos-bucket/jobs/saved_model\n",
      "2021-03-01 04:48:31.184222: W tensorflow/python/util/util.cc:348] Sets are not currently considered sequences, but this may change in the future, so consider avoiding using them.\n",
      "W0301 04:48:34.678762 140432099874624 save.py:241] Found untraced functions such as restored_function_body, restored_function_body, restored_function_body, restored_function_body, restored_function_body while saving (showing 5 of 910). These functions will not be directly callable after loading.\n",
      "W0301 04:48:34.976996 140432099874624 save.py:241] Found untraced functions such as restored_function_body, restored_function_body, restored_function_body, restored_function_body, restored_function_body while saving (showing 5 of 910). These functions will not be directly callable after loading.\n",
      "INFO:tensorflow:Assets written to: gs://jk-demos-bucket/jobs/saved_model/assets\n",
      "I0301 04:48:58.824625 140432099874624 builder_impl.py:775] Assets written to: gs://jk-demos-bucket/jobs/saved_model/assets\n",
      "I0301 04:49:00.235475 140432099874624 task.py:198] Copying TensorBoard logs to: gs://jk-demos-bucket/jobs/tb_logs\n"
     ]
    }
   ],
   "source": [
    "!docker run -it --gpus all {TRAIN_IMAGE} --epochs 2 --steps_per_epoch 10 --eval_steps 5"
   ]
  },
  {
   "cell_type": "markdown",
   "metadata": {},
   "source": [
    "### Assembling a single node training job specification\n",
    "\n",
    "A single node training job specification (that uses a custom container) defines a single worker pool. Within the pool you specify the following settings:\n",
    "- A machine type and accelerators\n",
    "- A configuration of a custom container\n",
    "\n",
    "For our job we will use a `n1-standard-4` machine with 2 NVidia T4 GPUs.\n"
   ]
  },
  {
   "cell_type": "code",
   "execution_count": 48,
   "metadata": {},
   "outputs": [],
   "source": [
    "MACHINE_TYPE = 'n1-standard-4'\n",
    "TRAIN_GPU, TRAIN_NGPU = (aip.AcceleratorType.NVIDIA_TESLA_T4, 2)"
   ]
  },
  {
   "cell_type": "markdown",
   "metadata": {},
   "source": [
    "When configuring a custom container you pass the command line parameters expected by your script through the `args` field of the container specification."
   ]
  },
  {
   "cell_type": "code",
   "execution_count": 50,
   "metadata": {},
   "outputs": [
    {
     "data": {
      "text/plain": [
       "{'display_name': 'imdb-bert-job-20210301050847',\n",
       " 'job_spec': {'worker_pool_specs': [{'replica_count': 1,\n",
       "    'machine_spec': {'machine_type': 'n1-standard-4',\n",
       "     'accelerator_type': <AcceleratorType.NVIDIA_TESLA_T4: 5>,\n",
       "     'accelerator_count': 2},\n",
       "    'container_spec': {'image_uri': 'gcr.io/jk-demos/imdb_bert',\n",
       "     'args': ['--epochs=3',\n",
       "      '--steps_per_epoch=200',\n",
       "      '--eval_steps=50',\n",
       "      '--training_data_path=gs://jk-demos-bucket/tfrecords/train',\n",
       "      '--valid_data_path=gs://jk-demos-bucket/tfrecords/valid',\n",
       "      '--job_dir=gs://jk-demos-bucket/jobs/job-20210301050847']}}]}}"
      ]
     },
     "execution_count": 50,
     "metadata": {},
     "output_type": "execute_result"
    }
   ],
   "source": [
    "epochs = 3\n",
    "steps_per_epoch = 200\n",
    "eval_steps = 50\n",
    "training_data_path = 'gs://jk-demos-bucket/tfrecords/train'\n",
    "valid_data_path = 'gs://jk-demos-bucket/tfrecords/valid'\n",
    "job_id = 'job-{}'.format(datetime.now().strftime(\"%Y%m%d%H%M%S\"))\n",
    "job_dir = 'gs://jk-demos-bucket/jobs/{}'.format(job_id)\n",
    "\n",
    "\n",
    "worker_pool_spec = [\n",
    "    {\n",
    "        \"replica_count\": 1,\n",
    "        \"machine_spec\": {\n",
    "            \"machine_type\": MACHINE_TYPE,\n",
    "            \"accelerator_type\": TRAIN_GPU,\n",
    "            \"accelerator_count\": TRAIN_NGPU\n",
    "        },\n",
    "        \"container_spec\": {\n",
    "            \"image_uri\": TRAIN_IMAGE,\n",
    "            \"args\": [\n",
    "                \"--epochs=\" + str(epochs),\n",
    "                \"--steps_per_epoch=\" + str(steps_per_epoch),\n",
    "                \"--eval_steps=\" + str(eval_steps),\n",
    "                \"--training_data_path=\" + training_data_path,\n",
    "                \"--valid_data_path=\" + valid_data_path,\n",
    "                \"--job_dir=\" + job_dir  \n",
    "            ]\n",
    "        },\n",
    "    }\n",
    "]\n",
    "\n",
    "custom_job = {\n",
    "        \"display_name\": f'imdb-bert-{job_id}',\n",
    "        \"job_spec\": {\n",
    "            \"worker_pool_specs\": worker_pool_spec\n",
    "        },\n",
    "    }\n",
    "\n",
    "custom_job"
   ]
  },
  {
   "cell_type": "markdown",
   "metadata": {},
   "source": [
    "#### Submitting a job\n",
    "\n",
    "The AI Platform (Unified) SDK works as a client/server model. On your side, the Python script, you will create a client that sends requests and receives responses from the server -- AI Platform.\n",
    "\n",
    "To submit training jobs you need to create a Job Service client."
   ]
  },
  {
   "cell_type": "code",
   "execution_count": 52,
   "metadata": {},
   "outputs": [],
   "source": [
    "client_options = {\"api_endpoint\": API_ENDPOINT}\n",
    "\n",
    "client = aip.JobServiceClient(client_options=client_options)"
   ]
  },
  {
   "cell_type": "markdown",
   "metadata": {},
   "source": [
    "And to submit the job."
   ]
  },
  {
   "cell_type": "code",
   "execution_count": 53,
   "metadata": {},
   "outputs": [
    {
     "data": {
      "text/plain": [
       "name: \"projects/993115309906/locations/us-central1/customJobs/5176896567755407360\"\n",
       "display_name: \"imdb-bert-job-20210301050847\"\n",
       "job_spec {\n",
       "  worker_pool_specs {\n",
       "    machine_spec {\n",
       "      machine_type: \"n1-standard-4\"\n",
       "      accelerator_type: NVIDIA_TESLA_T4\n",
       "      accelerator_count: 2\n",
       "    }\n",
       "    replica_count: 1\n",
       "    disk_spec {\n",
       "      boot_disk_type: \"pd-ssd\"\n",
       "      boot_disk_size_gb: 100\n",
       "    }\n",
       "    container_spec {\n",
       "      image_uri: \"gcr.io/jk-demos/imdb_bert\"\n",
       "      args: \"--epochs=3\"\n",
       "      args: \"--steps_per_epoch=200\"\n",
       "      args: \"--eval_steps=50\"\n",
       "      args: \"--training_data_path=gs://jk-demos-bucket/tfrecords/train\"\n",
       "      args: \"--valid_data_path=gs://jk-demos-bucket/tfrecords/valid\"\n",
       "      args: \"--job_dir=gs://jk-demos-bucket/jobs/job-20210301050847\"\n",
       "    }\n",
       "  }\n",
       "}\n",
       "state: JOB_STATE_PENDING\n",
       "create_time {\n",
       "  seconds: 1614575639\n",
       "  nanos: 551640000\n",
       "}\n",
       "update_time {\n",
       "  seconds: 1614575639\n",
       "  nanos: 551640000\n",
       "}"
      ]
     },
     "execution_count": 53,
     "metadata": {},
     "output_type": "execute_result"
    }
   ],
   "source": [
    "response = client.create_custom_job(parent=PARENT, custom_job=custom_job)\n",
    "response"
   ]
  },
  {
   "cell_type": "markdown",
   "metadata": {
    "id": "3c-_z6tyxa3-"
   },
   "source": [
    "#### Monitoring the job\n",
    "\n",
    "You can monitor the job through GCP Console or programmaticaly by using the `client.get_custom_job()` method"
   ]
  },
  {
   "cell_type": "code",
   "execution_count": 55,
   "metadata": {},
   "outputs": [
    {
     "data": {
      "text/plain": [
       "name: \"projects/993115309906/locations/us-central1/customJobs/5176896567755407360\"\n",
       "display_name: \"imdb-bert-job-20210301050847\"\n",
       "job_spec {\n",
       "  worker_pool_specs {\n",
       "    machine_spec {\n",
       "      machine_type: \"n1-standard-4\"\n",
       "      accelerator_type: NVIDIA_TESLA_T4\n",
       "      accelerator_count: 2\n",
       "    }\n",
       "    replica_count: 1\n",
       "    disk_spec {\n",
       "      boot_disk_type: \"pd-ssd\"\n",
       "      boot_disk_size_gb: 100\n",
       "    }\n",
       "    container_spec {\n",
       "      image_uri: \"gcr.io/jk-demos/imdb_bert\"\n",
       "      args: \"--epochs=3\"\n",
       "      args: \"--steps_per_epoch=200\"\n",
       "      args: \"--eval_steps=50\"\n",
       "      args: \"--training_data_path=gs://jk-demos-bucket/tfrecords/train\"\n",
       "      args: \"--valid_data_path=gs://jk-demos-bucket/tfrecords/valid\"\n",
       "      args: \"--job_dir=gs://jk-demos-bucket/jobs/job-20210301050847\"\n",
       "    }\n",
       "  }\n",
       "}\n",
       "state: JOB_STATE_FAILED\n",
       "create_time {\n",
       "  seconds: 1614575639\n",
       "  nanos: 551640000\n",
       "}\n",
       "start_time {\n",
       "  seconds: 1614575648\n",
       "  nanos: 702744000\n",
       "}\n",
       "end_time {\n",
       "  seconds: 1614575649\n",
       "  nanos: 4232000\n",
       "}\n",
       "update_time {\n",
       "  seconds: 1614575649\n",
       "  nanos: 4232000\n",
       "}\n",
       "error {\n",
       "  code: 7\n",
       "  message: \"AI Platform Service Agent \\'service-993115309906@gcp-sa-aiplatform-cc.iam.gserviceaccount.com\\' should be granted access to the image gcr.io/jk-demos/imdb_bert.\"\n",
       "}"
      ]
     },
     "execution_count": 55,
     "metadata": {},
     "output_type": "execute_result"
    }
   ],
   "source": [
    "job_name = response.name\n",
    "\n",
    "response = client.get_custom_job(name=job_name)\n",
    "response"
   ]
  },
  {
   "cell_type": "markdown",
   "metadata": {
    "id": "TpV-iwP9qw9c"
   },
   "source": [
    "# Cleaning up\n",
    "\n",
    "To clean up all GCP resources used in this project, you can [delete the GCP\n",
    "project](https://cloud.google.com/resource-manager/docs/creating-managing-projects#shutting_down_projects) you used for the tutorial.\n",
    "\n",
    "Otherwise, you can delete the individual resources you created in this tutorial:\n",
    "\n",
    "- Dataset\n",
    "- Model\n",
    "- Endpoint\n",
    "- Cloud Storage Bucket"
   ]
  },
  {
   "cell_type": "code",
   "execution_count": null,
   "metadata": {
    "id": "sx_vKniMq9ZX"
   },
   "outputs": [],
   "source": [
    "delete_dataset = True\n",
    "delete_model = True\n",
    "delete_endpoint = True\n",
    "delete_bucket = True\n",
    "\n",
    "# Delete the dataset using the AI Platform (Unified) fully qualified identifier for the dataset\n",
    "try:\n",
    "    if delete_dataset:\n",
    "        clients['dataset'].delete_dataset(name=dataset['name'])\n",
    "except Exception as e:\n",
    "    print(e)\n",
    "\n",
    "# Delete the model using the AI Platform (Unified) fully qualified identifier for the model\n",
    "try:\n",
    "    if delete_model:\n",
    "        clients['model'].delete_model(name=model_to_deploy_name)\n",
    "except Exception as e:\n",
    "    print(e)\n",
    "\n",
    "# Delete the endpoint using the AI Platform (Unified) fully qualified identifier for the endpoint\n",
    "try:\n",
    "    if delete_endpoint:\n",
    "        clients['endpoint'].delete_endpoint(name=endpoint_name)\n",
    "except Exception as e:\n",
    "    print(e)\n",
    "\n",
    "if delete_bucket and 'BUCKET_NAME' in globals():\n",
    "    ! gsutil rm -r gs://$BUCKET_NAME\n",
    "        \n",
    "# Collect any unclaimed memory\n",
    "import gc\n",
    "gc.collect()"
   ]
  }
 ],
 "metadata": {
  "colab": {
   "collapsed_sections": [],
   "name": "ucaip_customjob_image_container.ipynb",
   "provenance": [],
   "toc_visible": true
  },
  "environment": {
   "name": "tf2-gpu.2-4.mnightly-2021-02-12-debian-10-test",
   "type": "gcloud",
   "uri": "gcr.io/deeplearning-platform-release/tf2-gpu.2-4:mnightly-2021-02-12-debian-10-test"
  },
  "kernelspec": {
   "display_name": "Python [conda env:root] *",
   "language": "python",
   "name": "conda-root-py"
  },
  "language_info": {
   "codemirror_mode": {
    "name": "ipython",
    "version": 3
   },
   "file_extension": ".py",
   "mimetype": "text/x-python",
   "name": "python",
   "nbconvert_exporter": "python",
   "pygments_lexer": "ipython3",
   "version": "3.7.9"
  }
 },
 "nbformat": 4,
 "nbformat_minor": 4
}
