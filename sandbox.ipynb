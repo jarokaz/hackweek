{
 "cells": [
  {
   "cell_type": "code",
   "execution_count": 3,
   "id": "studied-chance",
   "metadata": {},
   "outputs": [],
   "source": [
    "import tensorflow as tf\n",
    "import numpy as np"
   ]
  },
  {
   "cell_type": "code",
   "execution_count": 4,
   "id": "realistic-violin",
   "metadata": {},
   "outputs": [],
   "source": [
    "# The number of observations in the dataset.\n",
    "n_observations = int(1e4)\n",
    "\n",
    "# Boolean feature, encoded as False or True.\n",
    "feature0 = np.random.choice([False, True], n_observations)\n",
    "\n",
    "# Integer feature, random from 0 to 4.\n",
    "feature1 = np.random.randint(0, 5, n_observations)\n",
    "\n",
    "# String feature\n",
    "strings = np.array([b'cat', b'dog', b'chicken', b'horse', b'goat'])\n",
    "feature2 = strings[feature1]\n",
    "\n",
    "# Float feature, from a standard normal distribution\n",
    "feature3 = np.random.randn(n_observations)"
   ]
  },
  {
   "cell_type": "code",
   "execution_count": 5,
   "id": "possible-declaration",
   "metadata": {},
   "outputs": [
    {
     "data": {
      "text/plain": [
       "array([ True,  True,  True, ..., False,  True,  True])"
      ]
     },
     "execution_count": 5,
     "metadata": {},
     "output_type": "execute_result"
    }
   ],
   "source": [
    "feature0"
   ]
  },
  {
   "cell_type": "code",
   "execution_count": 6,
   "id": "headed-chaos",
   "metadata": {},
   "outputs": [
    {
     "data": {
      "text/plain": [
       "<TensorSliceDataset shapes: (), types: tf.int64>"
      ]
     },
     "execution_count": 6,
     "metadata": {},
     "output_type": "execute_result"
    }
   ],
   "source": [
    "tf.data.Dataset.from_tensor_slices(feature1)"
   ]
  },
  {
   "cell_type": "code",
   "execution_count": 7,
   "id": "dietary-combat",
   "metadata": {},
   "outputs": [
    {
     "data": {
      "text/plain": [
       "<TensorSliceDataset shapes: ((), (), (), ()), types: (tf.bool, tf.int64, tf.string, tf.float64)>"
      ]
     },
     "execution_count": 7,
     "metadata": {},
     "output_type": "execute_result"
    }
   ],
   "source": [
    "features_dataset = tf.data.Dataset.from_tensor_slices((feature0, feature1, feature2, feature3))\n",
    "features_dataset"
   ]
  },
  {
   "cell_type": "code",
   "execution_count": 15,
   "id": "exterior-sharing",
   "metadata": {},
   "outputs": [
    {
     "name": "stdout",
     "output_type": "stream",
     "text": [
      "tf.Tensor(True, shape=(), dtype=bool)\n",
      "tf.Tensor(4, shape=(), dtype=int64)\n",
      "tf.Tensor(b'goat', shape=(), dtype=string)\n",
      "tf.Tensor(2.3695984611021084, shape=(), dtype=float64)\n"
     ]
    }
   ],
   "source": [
    "for f0, f1, f2, f3 in features_dataset.take(1):\n",
    "    print(f0)\n",
    "    print(f1)\n",
    "    print(f2)\n",
    "    print(f3)"
   ]
  },
  {
   "cell_type": "code",
   "execution_count": 16,
   "id": "educational-ghost",
   "metadata": {},
   "outputs": [],
   "source": [
    "def _bytes_feature(value):\n",
    "  \"\"\"Returns a bytes_list from a string / byte.\"\"\"\n",
    "  if isinstance(value, type(tf.constant(0))):\n",
    "    value = value.numpy() # BytesList won't unpack a string from an EagerTensor.\n",
    "  return tf.train.Feature(bytes_list=tf.train.BytesList(value=[value]))\n",
    "\n",
    "def _int64_feature(value):\n",
    "  \"\"\"Returns an int64_list from a bool / enum / int / uint.\"\"\"\n",
    "  return tf.train.Feature(int64_list=tf.train.Int64List(value=[value]))"
   ]
  },
  {
   "cell_type": "code",
   "execution_count": 17,
   "id": "aggregate-tracy",
   "metadata": {},
   "outputs": [
    {
     "data": {
      "text/plain": [
       "int64_list {\n",
       "  value: 1\n",
       "}"
      ]
     },
     "execution_count": 17,
     "metadata": {},
     "output_type": "execute_result"
    }
   ],
   "source": [
    "_int64_feature(1)"
   ]
  },
  {
   "cell_type": "code",
   "execution_count": 18,
   "id": "fifty-membership",
   "metadata": {},
   "outputs": [],
   "source": [
    "train_path = 'gs://jk-demos-bucket/tfrecords/train'"
   ]
  },
  {
   "cell_type": "code",
   "execution_count": 19,
   "id": "straight-slovenia",
   "metadata": {},
   "outputs": [
    {
     "data": {
      "text/plain": [
       "['train.tfrecords']"
      ]
     },
     "execution_count": 19,
     "metadata": {},
     "output_type": "execute_result"
    }
   ],
   "source": [
    "tf.io.gfile.listdir(train_path)"
   ]
  },
  {
   "cell_type": "code",
   "execution_count": null,
   "id": "dominant-taxation",
   "metadata": {},
   "outputs": [],
   "source": []
  },
  {
   "cell_type": "code",
   "execution_count": 6,
   "id": "mental-sense",
   "metadata": {},
   "outputs": [],
   "source": [
    "import tensorflow as tf"
   ]
  },
  {
   "cell_type": "code",
   "execution_count": 3,
   "id": "governmental-conflict",
   "metadata": {},
   "outputs": [
    {
     "name": "stdout",
     "output_type": "stream",
     "text": [
      "gs://jk-demos-bucket/tfrecords/train/train.tfrecords\n"
     ]
    }
   ],
   "source": [
    "!gsutil ls gs://jk-demos-bucket/tfrecords/train"
   ]
  },
  {
   "cell_type": "code",
   "execution_count": 12,
   "id": "empirical-marathon",
   "metadata": {},
   "outputs": [],
   "source": [
    "files = ['gs://jk-demos-bucket/tfrecords/train/train.tfrecords']\n",
    "#files = ['gs://jk-demos-bucket/tfrecords/valid/valid.tfrecords']\n",
    "\n",
    "\n",
    "dataset = tf.data.TFRecordDataset(files)"
   ]
  },
  {
   "cell_type": "code",
   "execution_count": 13,
   "id": "massive-cologne",
   "metadata": {},
   "outputs": [
    {
     "name": "stdout",
     "output_type": "stream",
     "text": [
      "20000\n"
     ]
    }
   ],
   "source": [
    "count = 0\n",
    "for record in dataset:\n",
    "    count += 1\n",
    "\n",
    "print(count)"
   ]
  },
  {
   "cell_type": "code",
   "execution_count": null,
   "id": "worth-basics",
   "metadata": {},
   "outputs": [],
   "source": []
  }
 ],
 "metadata": {
  "environment": {
   "name": "tf2-gpu.2-4.mnightly-2021-02-12-debian-10-test",
   "type": "gcloud",
   "uri": "gcr.io/deeplearning-platform-release/tf2-gpu.2-4:mnightly-2021-02-12-debian-10-test"
  },
  "kernelspec": {
   "display_name": "Python 3",
   "language": "python",
   "name": "python3"
  },
  "language_info": {
   "codemirror_mode": {
    "name": "ipython",
    "version": 3
   },
   "file_extension": ".py",
   "mimetype": "text/x-python",
   "name": "python",
   "nbconvert_exporter": "python",
   "pygments_lexer": "ipython3",
   "version": "3.7.9"
  }
 },
 "nbformat": 4,
 "nbformat_minor": 5
}
